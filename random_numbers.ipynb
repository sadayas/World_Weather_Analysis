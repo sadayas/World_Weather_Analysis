{
 "cells": [
  {
   "cell_type": "code",
   "execution_count": 1,
   "id": "224fb4d2",
   "metadata": {},
   "outputs": [],
   "source": [
    "#import the random module.\n",
    "import random"
   ]
  },
  {
   "cell_type": "code",
   "execution_count": 2,
   "id": "18b98eb8",
   "metadata": {},
   "outputs": [
    {
     "data": {
      "text/plain": [
       "69"
      ]
     },
     "execution_count": 2,
     "metadata": {},
     "output_type": "execute_result"
    }
   ],
   "source": [
    "random.randint(-90, 90)"
   ]
  },
  {
   "cell_type": "code",
   "execution_count": 3,
   "id": "580c7a44",
   "metadata": {},
   "outputs": [
    {
     "data": {
      "text/plain": [
       "0.261587089180885"
      ]
     },
     "execution_count": 3,
     "metadata": {},
     "output_type": "execute_result"
    }
   ],
   "source": [
    "random.random()"
   ]
  },
  {
   "cell_type": "code",
   "execution_count": 4,
   "id": "24d659b0",
   "metadata": {},
   "outputs": [
    {
     "data": {
      "text/plain": [
       "-66.15267296618647"
      ]
     },
     "execution_count": 4,
     "metadata": {},
     "output_type": "execute_result"
    }
   ],
   "source": [
    "random_number1 = random.randint(-90, 89) + random.random()\n",
    "random_number1"
   ]
  },
  {
   "cell_type": "code",
   "execution_count": 5,
   "id": "2b1198d8",
   "metadata": {},
   "outputs": [],
   "source": [
    "x = 1\n",
    "latitudes = []\n",
    "while x < 11:\n",
    "    random_lat = random.randint(-90, 89) + random.random()\n",
    "    latitudes.append(random_lat)\n",
    "    x +=1"
   ]
  },
  {
   "cell_type": "code",
   "execution_count": 6,
   "id": "8e231adb",
   "metadata": {},
   "outputs": [
    {
     "data": {
      "text/plain": [
       "[-47.92851670830492,\n",
       " 8.086037010846805,\n",
       " 42.655598180948374,\n",
       " -16.241114027149,\n",
       " -12.133864932094522,\n",
       " 59.32086921295714,\n",
       " 53.41480366383288,\n",
       " 4.511278567533747,\n",
       " -79.6181107416176,\n",
       " -78.5041785733113]"
      ]
     },
     "execution_count": 6,
     "metadata": {},
     "output_type": "execute_result"
    }
   ],
   "source": [
    "latitudes"
   ]
  },
  {
   "cell_type": "code",
   "execution_count": 7,
   "id": "0f1fab0a",
   "metadata": {},
   "outputs": [
    {
     "data": {
      "text/plain": [
       "33"
      ]
     },
     "execution_count": 7,
     "metadata": {},
     "output_type": "execute_result"
    }
   ],
   "source": [
    "random.randrange(-90, 90, step=1)"
   ]
  },
  {
   "cell_type": "code",
   "execution_count": 8,
   "id": "ce043ed9",
   "metadata": {},
   "outputs": [
    {
     "data": {
      "text/plain": [
       "75"
      ]
     },
     "execution_count": 8,
     "metadata": {},
     "output_type": "execute_result"
    }
   ],
   "source": [
    "random.randrange(-90, 90, step=3)"
   ]
  },
  {
   "cell_type": "code",
   "execution_count": 9,
   "id": "3f06f919",
   "metadata": {},
   "outputs": [
    {
     "data": {
      "text/plain": [
       "-38.9714083789603"
      ]
     },
     "execution_count": 9,
     "metadata": {},
     "output_type": "execute_result"
    }
   ],
   "source": [
    "random.uniform(-90, 90)"
   ]
  },
  {
   "cell_type": "code",
   "execution_count": 10,
   "id": "de9850e8",
   "metadata": {},
   "outputs": [],
   "source": [
    "#Import Numpy\n",
    "import numpy as np"
   ]
  },
  {
   "cell_type": "code",
   "execution_count": 11,
   "id": "50c058d0",
   "metadata": {},
   "outputs": [
    {
     "data": {
      "text/plain": [
       "-28.131456633767158"
      ]
     },
     "execution_count": 11,
     "metadata": {},
     "output_type": "execute_result"
    }
   ],
   "source": [
    "np.random.uniform(-90.000, 90.000)\n",
    "#Also as np.random.uniform(low=-90, high=90)"
   ]
  },
  {
   "cell_type": "code",
   "execution_count": 12,
   "id": "53a90947",
   "metadata": {},
   "outputs": [
    {
     "data": {
      "text/plain": [
       "array([ -1.48013008,  70.04913137, -28.03832869, -33.92643144,\n",
       "        41.10163481,  38.07532191, -65.77538967,  47.83085213,\n",
       "       -56.34759135, -47.44260236, -26.56623028, -83.63839761,\n",
       "       -75.09368551,  -0.67746377,  54.24892709, -59.58217005,\n",
       "        37.13141123, -26.35571982, -47.15219906,  64.23088354,\n",
       "       -42.24208405,  66.34545033,  55.68586465, -57.44619907,\n",
       "        85.27615998, -73.88825143,  38.21465964, -76.02406319,\n",
       "        37.3110055 , -64.43175588,   3.75177341, -47.63350197,\n",
       "        39.21225348,  58.09925184, -27.73550419,  79.75272322,\n",
       "       -81.11100424,  27.02132761,  -6.08035311, -58.5564006 ,\n",
       "       -65.21472265,  11.60797576,  85.74268254,  87.60063301,\n",
       "        30.25267929,  39.44850527,  65.58216784, -43.34934127,\n",
       "        36.68543656,  27.33669567])"
      ]
     },
     "execution_count": 12,
     "metadata": {},
     "output_type": "execute_result"
    }
   ],
   "source": [
    "np.random.uniform(-90.000, 90.000, size=50)"
   ]
  },
  {
   "cell_type": "code",
   "execution_count": 13,
   "id": "790e8d21",
   "metadata": {},
   "outputs": [],
   "source": [
    "#Import timeit.\n",
    "import timeit"
   ]
  },
  {
   "cell_type": "code",
   "execution_count": 14,
   "id": "60639f91",
   "metadata": {},
   "outputs": [
    {
     "name": "stdout",
     "output_type": "stream",
     "text": [
      "12.2 µs ± 84.9 ns per loop (mean ± std. dev. of 7 runs, 100000 loops each)\n"
     ]
    }
   ],
   "source": [
    "%timeit np.random.uniform(low=-90, high=90, size=1500)"
   ]
  },
  {
   "cell_type": "code",
   "execution_count": 15,
   "id": "adc00f38",
   "metadata": {},
   "outputs": [
    {
     "name": "stdout",
     "output_type": "stream",
     "text": [
      "1.53 ms ± 3.06 µs per loop (mean ± std. dev. of 7 runs, 1000 loops each)\n"
     ]
    }
   ],
   "source": [
    "def latitudes(size):\n",
    "    latitudes = []\n",
    "    x = 0\n",
    "    while x < (size):\n",
    "        random_lat = random.randint(-90, 90) + random.random()\n",
    "        latitudes.append(random_lat)\n",
    "        x += 1\n",
    "    return latitudes\n",
    "# Call the function with 1500.\n",
    "%timeit latitudes(1500)"
   ]
  },
  {
   "cell_type": "code",
   "execution_count": 17,
   "id": "d7ffb075",
   "metadata": {},
   "outputs": [],
   "source": [
    "#Skill Drill"
   ]
  },
  {
   "cell_type": "code",
   "execution_count": null,
   "id": "aa9fcff5",
   "metadata": {},
   "outputs": [],
   "source": []
  }
 ],
 "metadata": {
  "kernelspec": {
   "display_name": "PythonData",
   "language": "python",
   "name": "pythondata"
  },
  "language_info": {
   "codemirror_mode": {
    "name": "ipython",
    "version": 3
   },
   "file_extension": ".py",
   "mimetype": "text/x-python",
   "name": "python",
   "nbconvert_exporter": "python",
   "pygments_lexer": "ipython3",
   "version": "3.7.11"
  }
 },
 "nbformat": 4,
 "nbformat_minor": 5
}
